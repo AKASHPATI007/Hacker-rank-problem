{
  "nbformat": 4,
  "nbformat_minor": 0,
  "metadata": {
    "colab": {
      "provenance": [],
      "authorship_tag": "ABX9TyPOrMOGszmgoQ16MsakrKHk",
      "include_colab_link": true
    },
    "kernelspec": {
      "name": "python3",
      "display_name": "Python 3"
    },
    "language_info": {
      "name": "python"
    }
  },
  "cells": [
    {
      "cell_type": "markdown",
      "metadata": {
        "id": "view-in-github",
        "colab_type": "text"
      },
      "source": [
        "<a href=\"https://colab.research.google.com/github/AKASHPATI007/Hacker-rank-problem/blob/main/Hackerrank_code.ipynb\" target=\"_parent\"><img src=\"https://colab.research.google.com/assets/colab-badge.svg\" alt=\"Open In Colab\"/></a>"
      ]
    },
    {
      "cell_type": "markdown",
      "source": [
        "**Merge the tools**"
      ],
      "metadata": {
        "id": "K5a6ClEHAseC"
      }
    },
    {
      "cell_type": "code",
      "execution_count": null,
      "metadata": {
        "colab": {
          "base_uri": "https://localhost:8080/"
        },
        "id": "TjWRGiPw72VJ",
        "outputId": "be90344d-3e3c-45c6-faa5-318d64c44524"
      },
      "outputs": [
        {
          "output_type": "stream",
          "name": "stdout",
          "text": [
            "AB\n",
            "CA\n",
            "AD\n",
            "None\n"
          ]
        }
      ],
      "source": [
        "# Merge the Tools!--i/p--s = 'AABCAAADA',k=3--o/p---AB,CA,AD\n",
        "# split s into n/k(9/3) get t convert each t to u  by removing any subsequent occurrences of non-distinct characters in t :\n",
        "# t = 'aab'---u ='ab',  t='caa'--u='ca'\n",
        "\n",
        "def merge_the_tools(string, k):\n",
        "    # your code goes here\n",
        "    str = ''\n",
        "    count = 0\n",
        "    for i in string:\n",
        "        if i not in str:\n",
        "            str = str+i\n",
        "        count = count +1\n",
        "        if (count == k):\n",
        "            count = 0\n",
        "            print(str)\n",
        "            str = ''\n",
        "\n",
        "print(merge_the_tools('AABCAAADA', 3))\n"
      ]
    },
    {
      "cell_type": "markdown",
      "source": [
        "**Collection.counter()**\n",
        "\n",
        "*A counter is a container that stores elements as dictionary keys, and their counts are stored as dictionary values.*\n",
        "\n",
        "Sample Code\n",
        "\n",
        " from collections import Counter\n",
        " \n",
        " myList = [1,1,2,3,4,5,3,2,3,4,2,1,2,3]\n",
        "\n",
        " print Counter(myList)\n",
        "\n",
        " Counter({2: 4, 3: 4, 1: 3, 4: 2, 5: 1})\n",
        "\n",
        " print Counter(myList).items()\n",
        " \n",
        " [(1, 3), (2, 4), (3, 4), (4, 2), (5, 1)]\n",
        " \n",
        " print Counter(myList).keys()\n",
        "\n",
        " [1, 2, 3, 4, 5]\n",
        "\n",
        " print Counter(myList).values()\n",
        " \n",
        " [3, 4, 4, 2, 1]"
      ],
      "metadata": {
        "id": "gst-K4WlAlV_"
      }
    },
    {
      "cell_type": "code",
      "source": [
        "from collections import Counter\n",
        "no_of_shoes = int(input())\n",
        "size_lst = map(int,input().split())\n",
        "no_of_customers = int(input())\n",
        "\n",
        "shoes = Counter(size_lst)\n",
        "income= 0\n",
        "if i in range(no_of_customers):\n",
        "    size,price = map(int,input().split())\n",
        "    if shoes[size]:\n",
        "        income += price\n",
        "        shoes[size] -= 1\n",
        "        \n",
        "print(income)\n"
      ],
      "metadata": {
        "id": "V6ZtE8hdAkf9",
        "colab": {
          "base_uri": "https://localhost:8080/",
          "height": 432
        },
        "outputId": "a432b054-c4d1-43e5-cb88-a2e6688a0fc7"
      },
      "execution_count": null,
      "outputs": [
        {
          "name": "stdout",
          "output_type": "stream",
          "text": [
            "5\n",
            "2,4,5,7,8,6,4\n",
            "6\n"
          ]
        },
        {
          "output_type": "error",
          "ename": "ValueError",
          "evalue": "ignored",
          "traceback": [
            "\u001b[0;31m---------------------------------------------------------------------------\u001b[0m",
            "\u001b[0;31mValueError\u001b[0m                                Traceback (most recent call last)",
            "\u001b[0;32m<ipython-input-2-a886d6d2e8e6>\u001b[0m in \u001b[0;36m<cell line: 6>\u001b[0;34m()\u001b[0m\n\u001b[1;32m      4\u001b[0m \u001b[0mno_of_customers\u001b[0m \u001b[0;34m=\u001b[0m \u001b[0mint\u001b[0m\u001b[0;34m(\u001b[0m\u001b[0minput\u001b[0m\u001b[0;34m(\u001b[0m\u001b[0;34m)\u001b[0m\u001b[0;34m)\u001b[0m\u001b[0;34m\u001b[0m\u001b[0;34m\u001b[0m\u001b[0m\n\u001b[1;32m      5\u001b[0m \u001b[0;34m\u001b[0m\u001b[0m\n\u001b[0;32m----> 6\u001b[0;31m \u001b[0mshoes\u001b[0m \u001b[0;34m=\u001b[0m \u001b[0mCounter\u001b[0m\u001b[0;34m(\u001b[0m\u001b[0msize_lst\u001b[0m\u001b[0;34m)\u001b[0m\u001b[0;34m\u001b[0m\u001b[0;34m\u001b[0m\u001b[0m\n\u001b[0m\u001b[1;32m      7\u001b[0m \u001b[0mincome\u001b[0m\u001b[0;34m=\u001b[0m \u001b[0;36m0\u001b[0m\u001b[0;34m\u001b[0m\u001b[0;34m\u001b[0m\u001b[0m\n\u001b[1;32m      8\u001b[0m \u001b[0;32mif\u001b[0m \u001b[0mi\u001b[0m \u001b[0;32min\u001b[0m \u001b[0mrange\u001b[0m\u001b[0;34m(\u001b[0m\u001b[0mno_of_customers\u001b[0m\u001b[0;34m)\u001b[0m\u001b[0;34m:\u001b[0m\u001b[0;34m\u001b[0m\u001b[0;34m\u001b[0m\u001b[0m\n",
            "\u001b[0;32m/usr/lib/python3.10/collections/__init__.py\u001b[0m in \u001b[0;36m__init__\u001b[0;34m(self, iterable, **kwds)\u001b[0m\n\u001b[1;32m    575\u001b[0m         '''\n\u001b[1;32m    576\u001b[0m         \u001b[0msuper\u001b[0m\u001b[0;34m(\u001b[0m\u001b[0;34m)\u001b[0m\u001b[0;34m.\u001b[0m\u001b[0m__init__\u001b[0m\u001b[0;34m(\u001b[0m\u001b[0;34m)\u001b[0m\u001b[0;34m\u001b[0m\u001b[0;34m\u001b[0m\u001b[0m\n\u001b[0;32m--> 577\u001b[0;31m         \u001b[0mself\u001b[0m\u001b[0;34m.\u001b[0m\u001b[0mupdate\u001b[0m\u001b[0;34m(\u001b[0m\u001b[0miterable\u001b[0m\u001b[0;34m,\u001b[0m \u001b[0;34m**\u001b[0m\u001b[0mkwds\u001b[0m\u001b[0;34m)\u001b[0m\u001b[0;34m\u001b[0m\u001b[0;34m\u001b[0m\u001b[0m\n\u001b[0m\u001b[1;32m    578\u001b[0m \u001b[0;34m\u001b[0m\u001b[0m\n\u001b[1;32m    579\u001b[0m     \u001b[0;32mdef\u001b[0m \u001b[0m__missing__\u001b[0m\u001b[0;34m(\u001b[0m\u001b[0mself\u001b[0m\u001b[0;34m,\u001b[0m \u001b[0mkey\u001b[0m\u001b[0;34m)\u001b[0m\u001b[0;34m:\u001b[0m\u001b[0;34m\u001b[0m\u001b[0;34m\u001b[0m\u001b[0m\n",
            "\u001b[0;32m/usr/lib/python3.10/collections/__init__.py\u001b[0m in \u001b[0;36mupdate\u001b[0;34m(self, iterable, **kwds)\u001b[0m\n\u001b[1;32m    668\u001b[0m                     \u001b[0msuper\u001b[0m\u001b[0;34m(\u001b[0m\u001b[0;34m)\u001b[0m\u001b[0;34m.\u001b[0m\u001b[0mupdate\u001b[0m\u001b[0;34m(\u001b[0m\u001b[0miterable\u001b[0m\u001b[0;34m)\u001b[0m\u001b[0;34m\u001b[0m\u001b[0;34m\u001b[0m\u001b[0m\n\u001b[1;32m    669\u001b[0m             \u001b[0;32melse\u001b[0m\u001b[0;34m:\u001b[0m\u001b[0;34m\u001b[0m\u001b[0;34m\u001b[0m\u001b[0m\n\u001b[0;32m--> 670\u001b[0;31m                 \u001b[0m_count_elements\u001b[0m\u001b[0;34m(\u001b[0m\u001b[0mself\u001b[0m\u001b[0;34m,\u001b[0m \u001b[0miterable\u001b[0m\u001b[0;34m)\u001b[0m\u001b[0;34m\u001b[0m\u001b[0;34m\u001b[0m\u001b[0m\n\u001b[0m\u001b[1;32m    671\u001b[0m         \u001b[0;32mif\u001b[0m \u001b[0mkwds\u001b[0m\u001b[0;34m:\u001b[0m\u001b[0;34m\u001b[0m\u001b[0;34m\u001b[0m\u001b[0m\n\u001b[1;32m    672\u001b[0m             \u001b[0mself\u001b[0m\u001b[0;34m.\u001b[0m\u001b[0mupdate\u001b[0m\u001b[0;34m(\u001b[0m\u001b[0mkwds\u001b[0m\u001b[0;34m)\u001b[0m\u001b[0;34m\u001b[0m\u001b[0;34m\u001b[0m\u001b[0m\n",
            "\u001b[0;31mValueError\u001b[0m: invalid literal for int() with base 10: '2,4,5,7,8,6,4'"
          ]
        }
      ]
    },
    {
      "cell_type": "markdown",
      "source": [
        "**Company logo**"
      ],
      "metadata": {
        "id": "wNQVZZvwp6qR"
      }
    },
    {
      "cell_type": "markdown",
      "source": [
        "A newly opened multinational brand has decided to base their company logo on the three most common characters in the company name. They are now trying out various combinations of company names and logos based on this condition. Given a string , which is the company name in lowercase letters, your task is to find the top three most common characters in the string.\n",
        "\n",
        "Print the three most common characters along with their occurrence count.\n",
        "\n",
        "Sort in descending order of occurrence count.\n",
        "\n",
        "If the occurrence count is the same, sort the characters in alphabetical order.\n",
        "\n",
        "Sample Input 0\n",
        "\n",
        "aabbbccde\n",
        "\n",
        "Sample Output 0\n",
        "\n",
        "b 3\n",
        "a 2\n",
        "c 2\n",
        "\n",
        "Explanation 0\n",
        "\n",
        "\n",
        "Here, b occurs  times. It is printed first.\n",
        "Both a and c occur  times. So, a is printed in the second line and c in the third line because a comes before c in the alphabet.\n",
        "\n"
      ],
      "metadata": {
        "id": "0MSk3No4qjSR"
      }
    },
    {
      "cell_type": "code",
      "source": [
        "from collections import Counter\n",
        "import math\n",
        "import os\n",
        "import random\n",
        "import re\n",
        "import sys\n",
        "\n",
        "\n",
        "\n",
        "if __name__ == '__main__':\n",
        "    s = input()\n",
        "\n",
        "    result = Counter(sorted(s)).most_common(3)\n",
        "    \n",
        "    for key,value in result:\n",
        "        print(key,value)"
      ],
      "metadata": {
        "colab": {
          "base_uri": "https://localhost:8080/"
        },
        "id": "GpdN6khfp_yD",
        "outputId": "2e4e40c6-e978-4806-f6bc-c5e994e445b6"
      },
      "execution_count": null,
      "outputs": [
        {
          "output_type": "stream",
          "name": "stdout",
          "text": [
            "google\n",
            "g 2\n",
            "o 2\n",
            "e 1\n"
          ]
        }
      ]
    },
    {
      "cell_type": "markdown",
      "source": [
        "** set.discard(),.remove()&.pop()**\n",
        "\n",
        "**.remove(x)--**\n",
        "\n",
        "This operation removes element x from the set.\n",
        "If element x does not exist, it raises a KeyError.\n",
        "The .remove(x) operation returns None.\n",
        "\n",
        "**.discard()**\n",
        "\n",
        "\n",
        "This operation also removes element x from the set.\n",
        "If element x does not exist, it does not raise a KeyError.\n",
        "The .discard(x) operation returns None.\n",
        "\n",
        "**.pop()**\n",
        "\n",
        "This operation removes and return an arbitrary element from the set.\n",
        "If there are no elements to remove, it raises a KeyError.\n",
        "\n"
      ],
      "metadata": {
        "id": "hStw3IJcyGDL"
      }
    },
    {
      "cell_type": "code",
      "source": [
        "# ques on hackerrank\n",
        "\n",
        "n = int(input())\n",
        "s = set(map(int, input().split()))\n",
        "N = int(input())\n",
        "\n",
        "for item in range(N):\n",
        "    cmd = input().split()\n",
        "    if cmd[0] == \"pop\":\n",
        "        s.pop()\n",
        "    if cmd[0] == \"remove\":\n",
        "        s.remove(int(cmd[1]))\n",
        "    if cmd[0] == \"discard\":\n",
        "        s.discard(int(cmd[1]))   \n",
        "        \n",
        "total = 0\n",
        "for i in s:\n",
        "    total = total + i\n",
        "print(total)\n"
      ],
      "metadata": {
        "id": "d03KLHnnq3UO"
      },
      "execution_count": null,
      "outputs": []
    },
    {
      "cell_type": "markdown",
      "source": [
        "** Doormat problem**"
      ],
      "metadata": {
        "id": "7eh2otVMtFzS"
      }
    },
    {
      "cell_type": "code",
      "source": [
        "N,M = map(int,input().split())\n",
        "\n",
        "for i in range(1,N,2):\n",
        "    print((i*'.|.').center(M,\"-\"))\n",
        "print(('WELCOME').center(M,\"-\"))\n",
        "\n",
        "for i in range(N-2,-1,-2):\n",
        "    print((i*'.|.').center(M,\"-\"))"
      ],
      "metadata": {
        "colab": {
          "base_uri": "https://localhost:8080/"
        },
        "id": "_euh-mGEtJ7E",
        "outputId": "3ffdb1a7-9a33-46f8-ceea-c00cc638c3bd"
      },
      "execution_count": null,
      "outputs": [
        {
          "output_type": "stream",
          "name": "stdout",
          "text": [
            "9 27\n",
            "------------.|.------------\n",
            "---------.|..|..|.---------\n",
            "------.|..|..|..|..|.------\n",
            "---.|..|..|..|..|..|..|.---\n",
            "----------WELCOME----------\n",
            "---.|..|..|..|..|..|..|.---\n",
            "------.|..|..|..|..|.------\n",
            "---------.|..|..|.---------\n",
            "------------.|.------------\n"
          ]
        }
      ]
    }
  ]
}